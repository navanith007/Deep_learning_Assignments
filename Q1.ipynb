{
 "cells": [
  {
   "cell_type": "markdown",
   "metadata": {},
   "source": [
    "# Multilayer Percceptron on XOR"
   ]
  },
  {
   "cell_type": "code",
   "execution_count": 1,
   "metadata": {},
   "outputs": [],
   "source": [
    "import math\n",
    "import numpy as np\n",
    "import matplotlib.pyplot as plt"
   ]
  },
  {
   "cell_type": "code",
   "execution_count": 2,
   "metadata": {},
   "outputs": [],
   "source": [
    "%matplotlib inline"
   ]
  },
  {
   "cell_type": "code",
   "execution_count": 4,
   "metadata": {},
   "outputs": [],
   "source": [
    "def sigmoid(x):\n",
    "    return 1.0/(1.0 + np.exp(-x))\n",
    "def sigmoid_der(x):\n",
    "    return x*(1.0 - x)\n",
    "def cost(error):\n",
    "    return math.pow(error, 2)/2.0"
   ]
  },
  {
   "cell_type": "markdown",
   "metadata": {},
   "source": [
    "### Multilayer Perceptron (Neural Network)"
   ]
  },
  {
   "cell_type": "code",
   "execution_count": 8,
   "metadata": {},
   "outputs": [],
   "source": [
    "class Nural_Network:\n",
    "    def __init__(self, inputs):\n",
    "        self.inputs = inputs\n",
    "\n",
    "        self.w_i=np.random.random((2, 3))\n",
    "        self.w_h=np.random.random((3, 1))\n",
    "        \n",
    "        print(self.w_i.shape)\n",
    "        print(self.w_h.shape)\n",
    "\n",
    "    def cal(self, inp):\n",
    "        s1=sigmoid(np.dot(inp, self.w_i))\n",
    "        s2=sigmoid(np.dot(s1, self.w_h))\n",
    "        return s2\n",
    "\n",
    "    def train(self, inputs,outputs, it, lr):\n",
    "        losses = np.array([])\n",
    "        for i in range(it):\n",
    "            loss=0\n",
    "            for j in range(len(inputs)):\n",
    "                l0=inputs[j].reshape(1,-1)\n",
    "                l1=sigmoid(np.dot(l0, self.w_i))\n",
    "                l2=sigmoid(np.dot(l1, self.w_h))\n",
    "\n",
    "                l2_err=outputs[j].reshape(1,-1) - l2\n",
    "                loss+=cost(l2_err)\n",
    "                l2_delta = np.multiply(l2_err, sigmoid_der(l2))\n",
    "\n",
    "                l1_err=np.dot(l2_delta, self.w_h.T)\n",
    "                l1_delta=np.multiply(l1_err, sigmoid_der(l1))\n",
    "\n",
    "                self.w_h+=lr*np.dot(l1.T, l2_delta)\n",
    "                self.w_i+=lr*np.dot(l0.T, l1_delta)\n",
    "            losses = np.append(losses, loss)\n",
    "        return losses"
   ]
  },
  {
   "cell_type": "markdown",
   "metadata": {},
   "source": [
    "### Input and Target data"
   ]
  },
  {
   "cell_type": "code",
   "execution_count": 19,
   "metadata": {},
   "outputs": [
    {
     "name": "stdout",
     "output_type": "stream",
     "text": [
      "(2, 3)\n",
      "(3, 1)\n"
     ]
    }
   ],
   "source": [
    "inputs=np.array([[0,0], [0,1], [1,0], [1,1]])\n",
    "outputs=np.array([ [0], [1],[1],[0] ])\n",
    "n=Nural_Network(inputs)"
   ]
  },
  {
   "cell_type": "code",
   "execution_count": 18,
   "metadata": {},
   "outputs": [],
   "source": [
    "epochs = 10000\n",
    "losses = n.train(inputs, outputs, epochs, lr=0.2)"
   ]
  },
  {
   "cell_type": "markdown",
   "metadata": {},
   "source": [
    "### Plot loss vs epochs"
   ]
  },
  {
   "cell_type": "code",
   "execution_count": 17,
   "metadata": {},
   "outputs": [
    {
     "data": {
      "text/plain": [
       "[<matplotlib.lines.Line2D at 0x2809ecf2668>]"
      ]
     },
     "execution_count": 17,
     "metadata": {},
     "output_type": "execute_result"
    },
    {
     "data": {
      "image/png": "[encoded data removed]",
      "text/plain": [
       "<Figure size 432x288 with 1 Axes>"
      ]
     },
     "metadata": {
      "needs_background": "light"
     },
     "output_type": "display_data"
    }
   ],
   "source": [
    "plt.plot(np.arange(1,epochs+1), losses, 'b*')"
   ]
  },
  {
   "cell_type": "markdown",
   "metadata": {},
   "source": [
    "### Final prediction for inputs"
   ]
  },
  {
   "cell_type": "code",
   "execution_count": 16,
   "metadata": {},
   "outputs": [
    {
     "name": "stdout",
     "output_type": "stream",
     "text": [
      "[[0.07979048]\n",
      " [0.94894779]\n",
      " [0.94893016]\n",
      " [0.02663338]]\n"
     ]
    }
   ],
   "source": [
    "output = n.cal(inputs)\n",
    "print(output)"
   ]
  },
  {
   "cell_type": "code",
   "execution_count": null,
   "metadata": {},
   "outputs": [],
   "source": []
  }
 ],
 "metadata": {
  "kernelspec": {
   "display_name": "Python 3",
   "language": "python",
   "name": "python3"
  },
  "language_info": {
   "codemirror_mode": {
    "name": "ipython",
    "version": 3
   },
   "file_extension": ".py",
   "mimetype": "text/x-python",
   "name": "python",
   "nbconvert_exporter": "python",
   "pygments_lexer": "ipython3",
   "version": "3.6.7"
  }
 },
 "nbformat": 4,
 "nbformat_minor": 2
}
