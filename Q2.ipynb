{
 "cells": [
  {
   "cell_type": "code",
   "execution_count": 1,
   "metadata": {
    "colab": {},
    "colab_type": "code",
    "id": "6UIcWJqRx5tq"
   },
   "outputs": [],
   "source": [
    "import tensorflow as tf\n",
    "import numpy as np\n",
    "import matplotlib.pyplot as plt\n",
    "from glob import glob\n",
    "\n",
    "import os\n",
    "\n",
    "from skimage import transform\n",
    "from sklearn.model_selection import train_test_split \n",
    "%matplotlib inline"
   ]
  },
  {
   "cell_type": "code",
   "execution_count": 0,
   "metadata": {
    "colab": {},
    "colab_type": "code",
    "id": "LXANA_3Ax5t0"
   },
   "outputs": [],
   "source": [
    "dataset_path = ''\n",
    "\n",
    "classes = glob(dataset_path+'/*')\n",
    "num_classes = len(classes)"
   ]
  },
  {
   "cell_type": "markdown",
   "metadata": {
    "colab_type": "text",
    "id": "J61XZZsJUIVt"
   },
   "source": []
  },
  {
   "cell_type": "code",
   "execution_count": 0,
   "metadata": {
    "colab": {
     "base_uri": "https://localhost:8080/",
     "height": 34
    },
    "colab_type": "code",
    "id": "nY_UU3scx5t2",
    "outputId": "b322deb8-8bae-4e5a-ef33-a8deaa561fb2"
   },
   "outputs": [
    {
     "name": "stdout",
     "output_type": "stream",
     "text": [
      "7\n"
     ]
    }
   ],
   "source": []
  },
  {
   "cell_type": "markdown",
   "metadata": {
    "colab_type": "text",
    "id": "7-C8rpIJUPfa"
   },
   "source": [
    "## Creating labels list"
   ]
  },
  {
   "cell_type": "code",
   "execution_count": 0,
   "metadata": {
    "colab": {},
    "colab_type": "code",
    "id": "xvDMdteNx5t5"
   },
   "outputs": [],
   "source": [
    "labels = np.array([], dtype=np.int)\n",
    "for class_num in classes:\n",
    "    class_num = class_num[-1]\n",
    "    num_files = len(glob((dataset_path+'/%s/*.jp*g') % class_num))\n",
    "    labels = np.append(labels, np.array([int(class_num)-1]*num_files))\n",
    "one_hot_labels = np.eye(num_classes)[labels]"
   ]
  },
  {
   "cell_type": "markdown",
   "metadata": {
    "colab_type": "text",
    "id": "Bt3UmfdVUYHG"
   },
   "source": []
  },
  {
   "cell_type": "code",
   "execution_count": 0,
   "metadata": {
    "colab": {},
    "colab_type": "code",
    "id": "l_5vmFlMx5t7"
   },
   "outputs": [],
   "source": []
  },
  {
   "cell_type": "markdown",
   "metadata": {
    "colab_type": "text",
    "id": "KuQYbPuIUe-Z"
   },
   "source": [
    "## Image files"
   ]
  },
  {
   "cell_type": "code",
   "execution_count": 0,
   "metadata": {
    "colab": {},
    "colab_type": "code",
    "id": "HINKMsFqx5t-"
   },
   "outputs": [],
   "source": [
    "image_files = glob(dataset_path+'/*/*.jp*g')"
   ]
  },
  {
   "cell_type": "markdown",
   "metadata": {
    "colab_type": "text",
    "id": "ZwZ2hZJXUp7m"
   },
   "source": []
  },
  {
   "cell_type": "code",
   "execution_count": 0,
   "metadata": {
    "colab": {},
    "colab_type": "code",
    "id": "7sLJe0Hpx5uF"
   },
   "outputs": [],
   "source": [
    "transformed_image_shape = (224, 224, 3)"
   ]
  },
  {
   "cell_type": "code",
   "execution_count": 0,
   "metadata": {
    "colab": {
     "base_uri": "https://localhost:8080/",
     "height": 50
    },
    "colab_type": "code",
    "id": "lXApRTRkx5uH",
    "outputId": "157b83f9-31f2-4878-b945-dfec53de4dae"
   },
   "outputs": [
    {
     "name": "stderr",
     "output_type": "stream",
     "text": [
      "/usr/local/lib/python3.6/dist-packages/skimage/transform/_warps.py:84: UserWarning: The default mode, 'constant', will be changed to 'reflect' in skimage 0.15.\n",
      "  warn(\"The default mode, 'constant', will be changed to 'reflect' in \"\n"
     ]
    }
   ],
   "source": [
    "images = np.empty((len(image_files), *transformed_image_shape))\n",
    "for i in range(len(image_files)):\n",
    "    img = plt.imread(image_files[i])\n",
    "    transformed_img = transform.resize(img, transformed_image_shape[0:2], preserve_range=True)\n",
    "    images[i] = transformed_img"
   ]
  },
  {
   "cell_type": "markdown",
   "metadata": {
    "colab_type": "text",
    "id": "_GmVoSSjU4nh"
   },
   "source": [
    "## Normalizing image tensors"
   ]
  },
  {
   "cell_type": "code",
   "execution_count": 0,
   "metadata": {
    "colab": {},
    "colab_type": "code",
    "id": "fC_Me6A34k5W"
   },
   "outputs": [],
   "source": [
    "images /= 255.0"
   ]
  },
  {
   "cell_type": "markdown",
   "metadata": {
    "colab_type": "text",
    "id": "ttLDNw0jU-lw"
   },
   "source": [
    "## Input, target, weights and bias initialization"
   ]
  },
  {
   "cell_type": "code",
   "execution_count": 0,
   "metadata": {
    "colab": {
     "base_uri": "https://localhost:8080/",
     "height": 87
    },
    "colab_type": "code",
    "id": "7h6BnLTQx5uM",
    "outputId": "3e272d3c-aaae-408b-f9c3-1746548475b5"
   },
   "outputs": [
    {
     "name": "stdout",
     "output_type": "stream",
     "text": [
      "WARNING:tensorflow:From /usr/local/lib/python3.6/dist-packages/tensorflow/python/framework/op_def_library.py:263: colocate_with (from tensorflow.python.framework.ops) is deprecated and will be removed in a future version.\n",
      "Instructions for updating:\n",
      "Colocations handled automatically by placer.\n"
     ]
    }
   ],
   "source": [
    "x = tf.placeholder(tf.float32, (None, *transformed_image_shape))\n",
    "y = tf.placeholder(tf.float32, (None, num_classes))\n",
    "\n",
    "w1 = tf.Variable(tf.random_normal([3, 3, 3, 64]))\n",
    "w2 = tf.Variable(tf.random_normal([3, 3, 64, 128]))\n",
    "w3 = tf.Variable(tf.random_normal([3, 3, 128, 256]))\n",
    "\n",
    "b1 = tf.Variable(tf.random_normal([64]))\n",
    "b2 = tf.Variable(tf.random_normal([128]))\n",
    "b3 = tf.Variable(tf.random_normal([256]))"
   ]
  },
  {
   "cell_type": "markdown",
   "metadata": {
    "colab_type": "text",
    "id": "pQMdUg52VR5U"
   },
   "source": [
    "##  3 Convolution, Relu and Pooling block and 1 Fully connected block"
   ]
  },
  {
   "cell_type": "code",
   "execution_count": 0,
   "metadata": {
    "colab": {},
    "colab_type": "code",
    "id": "8oDQeqvVPYdS"
   },
   "outputs": [],
   "source": [
    "conv_layer_1 = tf.nn.conv2d(x, w1, [1, 2, 2, 1], 'VALID') + b1\n",
    "relu_layer_1 = tf.nn.relu(conv_layer_1)\n",
    "maxpool_layer_1 = tf.nn.max_pool(relu_layer_1, [1, 2, 2, 1], [1, 2, 2, 1], 'VALID')\n",
    "\n",
    "conv_layer_2 = tf.nn.conv2d(maxpool_layer_1, w2, [1, 2, 2, 1], 'VALID') + b2\n",
    "relu_layer_2 = tf.nn.relu(conv_layer_2)\n",
    "maxpool_layer_2 = tf.nn.max_pool(relu_layer_2, [1, 2, 2, 1], [1, 2, 2, 1], 'VALID')\n",
    "\n",
    "conv_layer_3 = tf.nn.conv2d(maxpool_layer_2, w3, [1, 2, 2, 1], 'VALID') + b3\n",
    "relu_layer_3 = tf.nn.relu(conv_layer_3)\n",
    "maxpool_layer_3 = tf.nn.max_pool(relu_layer_3, [1, 2, 2, 1], [1, 2, 2, 1], 'VALID')\n",
    "\n",
    "flatten_layer = tf.layers.Flatten()(maxpool_layer_3)\n",
    "\n",
    "o = tf.layers.Dense(num_classes)(flatten_layer)\n",
    "\n",
    "loss = tf.reduce_mean(tf.nn.softmax_cross_entropy_with_logits_v2(y, o))\n",
    "\n",
    "optimizer = tf.train.AdamOptimizer(learning_rate=0.003)\n",
    "train = optimizer.minimize(loss)\n",
    "\n",
    "correct_prediction = tf.equal(tf.argmax(y,1), tf.argmax(o,1))\n",
    "acc = tf.reduce_mean(tf.cast(correct_prediction, tf.float32))"
   ]
  },
  {
   "cell_type": "code",
   "execution_count": 0,
   "metadata": {
    "colab": {},
    "colab_type": "code",
    "id": "urcBPEUZx5uS"
   },
   "outputs": [],
   "source": [
    "init = tf.global_variables_initializer()"
   ]
  },
  {
   "cell_type": "markdown",
   "metadata": {
    "colab_type": "text",
    "id": "444QhhKlVrLq"
   },
   "source": [
    "## Setting Epoch and Batch Size"
   ]
  },
  {
   "cell_type": "code",
   "execution_count": 0,
   "metadata": {
    "colab": {},
    "colab_type": "code",
    "id": "j8Yx822ix5uZ"
   },
   "outputs": [],
   "source": [
    "epochs = 200\n",
    "batch_size = 64"
   ]
  },
  {
   "cell_type": "markdown",
   "metadata": {
    "colab_type": "text",
    "id": "h27iAVCTVwPd"
   },
   "source": [
    "## Shuffling dataset"
   ]
  },
  {
   "cell_type": "code",
   "execution_count": 0,
   "metadata": {
    "colab": {},
    "colab_type": "code",
    "id": "osLzAdwP5yrF"
   },
   "outputs": [],
   "source": [
    "random_indexes = np.random.randint(0, len(image_files), (len(image_files)))"
   ]
  },
  {
   "cell_type": "code",
   "execution_count": 0,
   "metadata": {
    "colab": {},
    "colab_type": "code",
    "id": "3IgaRm_y6u-G"
   },
   "outputs": [],
   "source": [
    "images = images[random_indexes]"
   ]
  },
  {
   "cell_type": "markdown",
   "metadata": {
    "colab_type": "text",
    "id": "S4TBV9c_V12w"
   },
   "source": [
    "## Splitting dataset into train and test set"
   ]
  },
  {
   "cell_type": "code",
   "execution_count": 0,
   "metadata": {
    "colab": {},
    "colab_type": "code",
    "id": "O6ac4rt85sL0"
   },
   "outputs": [],
   "source": [
    "x_train, x_test, y_train, y_test = train_test_split(images, one_hot_labels, test_size=0.25)"
   ]
  },
  {
   "cell_type": "code",
   "execution_count": 0,
   "metadata": {
    "colab": {},
    "colab_type": "code",
    "id": "mrUAAULmEYc0"
   },
   "outputs": [],
   "source": [
    "del images\n",
    "del labels\n",
    "del image_files"
   ]
  },
  {
   "cell_type": "code",
   "execution_count": 0,
   "metadata": {
    "colab": {},
    "colab_type": "code",
    "id": "mN4uExiSrq61"
   },
   "outputs": [],
   "source": [
    "sess = tf.InteractiveSession()"
   ]
  },
  {
   "cell_type": "markdown",
   "metadata": {
    "colab_type": "text",
    "id": "pAt31qOjV8VE"
   },
   "source": [
    "## Training"
   ]
  },
  {
   "cell_type": "code",
   "execution_count": 0,
   "metadata": {
    "colab": {
     "base_uri": "https://localhost:8080/",
     "height": 3377
    },
    "colab_type": "code",
    "id": "wEb20UaZx5ub",
    "outputId": "03094ad4-bf8b-4c70-b760-40c5c8549118"
   },
   "outputs": [
    {
     "name": "stdout",
     "output_type": "stream",
     "text": [
      "epoch 1, Loss 33030.523438, Training Accuracy 0.17188\n",
      "epoch 2, Loss 5595.480469, Training Accuracy 0.21875\n",
      "epoch 3, Loss 423.455261, Training Accuracy 0.28125\n",
      "epoch 4, Loss 63.865585, Training Accuracy 0.48438\n",
      "epoch 5, Loss 14.791290, Training Accuracy 0.59375\n",
      "epoch 6, Loss 17.032082, Training Accuracy 0.59375\n",
      "epoch 7, Loss 5.053983, Training Accuracy 0.68750\n",
      "epoch 8, Loss 5.396164, Training Accuracy 0.64062\n",
      "epoch 9, Loss 3.287899, Training Accuracy 0.57812\n",
      "epoch 10, Loss 2.790369, Training Accuracy 0.65625\n",
      "epoch 11, Loss 1.532777, Training Accuracy 0.78125\n",
      "epoch 12, Loss 2.652078, Training Accuracy 0.68750\n",
      "epoch 13, Loss 1.260803, Training Accuracy 0.73438\n",
      "epoch 14, Loss 1.467253, Training Accuracy 0.75000\n",
      "epoch 15, Loss 3.042482, Training Accuracy 0.71875\n",
      "epoch 16, Loss 1.374426, Training Accuracy 0.78125\n",
      "epoch 17, Loss 2.222987, Training Accuracy 0.68750\n",
      "epoch 18, Loss 1.772129, Training Accuracy 0.75000\n",
      "epoch 19, Loss 2.698127, Training Accuracy 0.70312\n",
      "epoch 20, Loss 1.010124, Training Accuracy 0.76562\n",
      "epoch 21, Loss 1.542983, Training Accuracy 0.70312\n",
      "epoch 22, Loss 2.646738, Training Accuracy 0.73438\n",
      "epoch 23, Loss 1.630491, Training Accuracy 0.73438\n",
      "epoch 24, Loss 1.437193, Training Accuracy 0.79688\n",
      "epoch 25, Loss 1.829031, Training Accuracy 0.73438\n",
      "epoch 26, Loss 2.883204, Training Accuracy 0.71875\n",
      "epoch 27, Loss 0.874205, Training Accuracy 0.78125\n",
      "epoch 28, Loss 0.953175, Training Accuracy 0.79688\n",
      "epoch 29, Loss 2.683369, Training Accuracy 0.70312\n",
      "epoch 30, Loss 4.065684, Training Accuracy 0.73438\n",
      "epoch 31, Loss 0.982069, Training Accuracy 0.78125\n",
      "epoch 32, Loss 1.576553, Training Accuracy 0.68750\n",
      "epoch 33, Loss 1.235166, Training Accuracy 0.76562\n",
      "epoch 34, Loss 3.080145, Training Accuracy 0.68750\n",
      "epoch 35, Loss 0.696189, Training Accuracy 0.81250\n",
      "epoch 36, Loss 2.651448, Training Accuracy 0.71875\n",
      "epoch 37, Loss 0.911724, Training Accuracy 0.71875\n",
      "epoch 38, Loss 1.378976, Training Accuracy 0.70312\n",
      "epoch 39, Loss 2.985055, Training Accuracy 0.75000\n",
      "epoch 40, Loss 0.600004, Training Accuracy 0.76562\n",
      "epoch 41, Loss 0.908049, Training Accuracy 0.73438\n",
      "epoch 42, Loss 2.565269, Training Accuracy 0.70312\n",
      "epoch 43, Loss 1.330804, Training Accuracy 0.75000\n",
      "epoch 44, Loss 0.802224, Training Accuracy 0.73438\n",
      "epoch 45, Loss 0.804351, Training Accuracy 0.76562\n",
      "epoch 46, Loss 0.571664, Training Accuracy 0.73438\n",
      "epoch 47, Loss 1.367823, Training Accuracy 0.70312\n",
      "epoch 48, Loss 0.552311, Training Accuracy 0.76562\n",
      "epoch 49, Loss 2.450106, Training Accuracy 0.73438\n",
      "epoch 50, Loss 1.255504, Training Accuracy 0.71875\n",
      "epoch 51, Loss 1.005322, Training Accuracy 0.68750\n",
      "epoch 52, Loss 2.009598, Training Accuracy 0.78125\n",
      "epoch 53, Loss 1.869814, Training Accuracy 0.70312\n",
      "epoch 54, Loss 0.493400, Training Accuracy 0.78125\n",
      "epoch 55, Loss 2.411439, Training Accuracy 0.75000\n",
      "epoch 56, Loss 1.196567, Training Accuracy 0.78125\n",
      "epoch 57, Loss 0.843650, Training Accuracy 0.76562\n",
      "epoch 58, Loss 0.813732, Training Accuracy 0.76562\n",
      "epoch 59, Loss 1.682083, Training Accuracy 0.75000\n",
      "epoch 60, Loss 1.013684, Training Accuracy 0.81250\n",
      "epoch 61, Loss 0.825737, Training Accuracy 0.76562\n",
      "epoch 62, Loss 1.419274, Training Accuracy 0.71875\n",
      "epoch 63, Loss 0.862343, Training Accuracy 0.76562\n",
      "epoch 64, Loss 0.510374, Training Accuracy 0.81250\n",
      "epoch 65, Loss 1.310075, Training Accuracy 0.65625\n",
      "epoch 66, Loss 0.487977, Training Accuracy 0.81250\n",
      "epoch 67, Loss 2.011546, Training Accuracy 0.73438\n",
      "epoch 68, Loss 0.657301, Training Accuracy 0.76562\n",
      "epoch 69, Loss 1.242996, Training Accuracy 0.71875\n",
      "epoch 70, Loss 1.517683, Training Accuracy 0.76562\n",
      "epoch 71, Loss 0.869634, Training Accuracy 0.73438\n",
      "epoch 72, Loss 0.739716, Training Accuracy 0.76562\n",
      "epoch 73, Loss 1.893586, Training Accuracy 0.68750\n",
      "epoch 74, Loss 0.708301, Training Accuracy 0.76562\n",
      "epoch 75, Loss 1.016543, Training Accuracy 0.73438\n",
      "epoch 76, Loss 1.470263, Training Accuracy 0.78125\n",
      "epoch 77, Loss 0.936015, Training Accuracy 0.73438\n",
      "epoch 78, Loss 0.744751, Training Accuracy 0.76562\n",
      "epoch 79, Loss 1.781301, Training Accuracy 0.70312\n",
      "epoch 80, Loss 0.641761, Training Accuracy 0.73438\n",
      "epoch 81, Loss 0.956723, Training Accuracy 0.68750\n",
      "epoch 82, Loss 1.330623, Training Accuracy 0.73438\n",
      "epoch 83, Loss 0.686177, Training Accuracy 0.71875\n",
      "epoch 84, Loss 0.718882, Training Accuracy 0.75000\n",
      "epoch 85, Loss 1.407818, Training Accuracy 0.70312\n",
      "epoch 86, Loss 0.504178, Training Accuracy 0.76562\n",
      "epoch 87, Loss 0.918148, Training Accuracy 0.70312\n",
      "epoch 88, Loss 1.241029, Training Accuracy 0.71875\n",
      "epoch 89, Loss 0.714022, Training Accuracy 0.70312\n",
      "epoch 90, Loss 0.723546, Training Accuracy 0.76562\n",
      "epoch 91, Loss 1.417886, Training Accuracy 0.73438\n",
      "epoch 92, Loss 0.498325, Training Accuracy 0.76562\n",
      "epoch 93, Loss 0.825670, Training Accuracy 0.73438\n",
      "epoch 94, Loss 1.277484, Training Accuracy 0.71875\n",
      "epoch 95, Loss 0.655166, Training Accuracy 0.70312\n",
      "epoch 96, Loss 0.774678, Training Accuracy 0.71875\n",
      "epoch 97, Loss 1.341600, Training Accuracy 0.70312\n",
      "epoch 98, Loss 0.551678, Training Accuracy 0.75000\n",
      "epoch 99, Loss 0.807264, Training Accuracy 0.71875\n",
      "epoch 100, Loss 1.234685, Training Accuracy 0.75000\n",
      "epoch 101, Loss 0.651588, Training Accuracy 0.73438\n",
      "epoch 102, Loss 0.777654, Training Accuracy 0.73438\n",
      "epoch 103, Loss 1.196744, Training Accuracy 0.71875\n",
      "epoch 104, Loss 0.502908, Training Accuracy 0.78125\n",
      "epoch 105, Loss 0.778327, Training Accuracy 0.70312\n",
      "epoch 106, Loss 1.091101, Training Accuracy 0.76562\n",
      "epoch 107, Loss 0.590659, Training Accuracy 0.71875\n",
      "epoch 108, Loss 0.736711, Training Accuracy 0.76562\n",
      "epoch 109, Loss 1.194837, Training Accuracy 0.70312\n",
      "epoch 110, Loss 0.498674, Training Accuracy 0.76562\n",
      "epoch 111, Loss 0.806385, Training Accuracy 0.68750\n",
      "epoch 112, Loss 1.033348, Training Accuracy 0.73438\n",
      "epoch 113, Loss 0.559772, Training Accuracy 0.68750\n",
      "epoch 114, Loss 0.723511, Training Accuracy 0.70312\n",
      "epoch 115, Loss 1.114460, Training Accuracy 0.71875\n",
      "epoch 116, Loss 0.476165, Training Accuracy 0.78125\n",
      "epoch 117, Loss 0.753680, Training Accuracy 0.65625\n",
      "epoch 118, Loss 1.014259, Training Accuracy 0.73438\n",
      "epoch 119, Loss 0.553116, Training Accuracy 0.68750\n",
      "epoch 120, Loss 0.715934, Training Accuracy 0.70312\n",
      "epoch 121, Loss 1.083736, Training Accuracy 0.70312\n",
      "epoch 122, Loss 0.470472, Training Accuracy 0.78125\n",
      "epoch 123, Loss 0.687446, Training Accuracy 0.65625\n",
      "epoch 124, Loss 1.006683, Training Accuracy 0.70312\n",
      "epoch 125, Loss 0.543208, Training Accuracy 0.73438\n",
      "epoch 126, Loss 0.654905, Training Accuracy 0.70312\n",
      "epoch 127, Loss 1.002460, Training Accuracy 0.73438\n",
      "epoch 128, Loss 0.635860, Training Accuracy 0.75000\n",
      "epoch 129, Loss 0.663945, Training Accuracy 0.65625\n",
      "epoch 130, Loss 0.959211, Training Accuracy 0.71875\n",
      "epoch 131, Loss 0.497718, Training Accuracy 0.73438\n",
      "epoch 132, Loss 0.667986, Training Accuracy 0.68750\n",
      "epoch 133, Loss 0.966830, Training Accuracy 0.68750\n",
      "epoch 134, Loss 0.483368, Training Accuracy 0.75000\n",
      "epoch 135, Loss 0.623102, Training Accuracy 0.67188\n",
      "epoch 136, Loss 0.926500, Training Accuracy 0.73438\n",
      "epoch 137, Loss 0.486187, Training Accuracy 0.76562\n",
      "epoch 138, Loss 0.687564, Training Accuracy 0.71875\n",
      "epoch 139, Loss 0.880498, Training Accuracy 0.75000\n",
      "epoch 140, Loss 0.530016, Training Accuracy 0.75000\n",
      "epoch 141, Loss 0.579785, Training Accuracy 0.70312\n",
      "epoch 142, Loss 0.880787, Training Accuracy 0.73438\n",
      "epoch 143, Loss 0.473600, Training Accuracy 0.76562\n",
      "epoch 144, Loss 0.670624, Training Accuracy 0.73438\n",
      "epoch 145, Loss 0.858081, Training Accuracy 0.71875\n",
      "epoch 146, Loss 0.478688, Training Accuracy 0.79688\n",
      "epoch 147, Loss 0.560723, Training Accuracy 0.71875\n",
      "epoch 148, Loss 0.791596, Training Accuracy 0.75000\n",
      "epoch 149, Loss 0.461150, Training Accuracy 0.79688\n",
      "epoch 150, Loss 0.645095, Training Accuracy 0.73438\n",
      "epoch 151, Loss 0.804561, Training Accuracy 0.75000\n",
      "epoch 152, Loss 0.492258, Training Accuracy 0.75000\n",
      "epoch 153, Loss 0.544703, Training Accuracy 0.75000\n",
      "epoch 154, Loss 0.803452, Training Accuracy 0.78125\n",
      "epoch 155, Loss 0.455187, Training Accuracy 0.76562\n",
      "epoch 156, Loss 0.624314, Training Accuracy 0.75000\n",
      "epoch 157, Loss 0.761740, Training Accuracy 0.73438\n",
      "epoch 158, Loss 0.464011, Training Accuracy 0.78125\n",
      "epoch 159, Loss 0.546076, Training Accuracy 0.71875\n",
      "epoch 160, Loss 0.759462, Training Accuracy 0.73438\n",
      "epoch 161, Loss 0.437826, Training Accuracy 0.76562\n",
      "epoch 162, Loss 0.589962, Training Accuracy 0.73438\n",
      "epoch 163, Loss 0.742847, Training Accuracy 0.78125\n",
      "epoch 164, Loss 0.468673, Training Accuracy 0.76562\n",
      "epoch 165, Loss 0.535413, Training Accuracy 0.75000\n",
      "epoch 166, Loss 0.760293, Training Accuracy 0.75000\n",
      "epoch 167, Loss 0.428506, Training Accuracy 0.76562\n",
      "epoch 168, Loss 0.569244, Training Accuracy 0.76562\n",
      "epoch 169, Loss 0.737062, Training Accuracy 0.78125\n",
      "epoch 170, Loss 0.446971, Training Accuracy 0.75000\n",
      "epoch 171, Loss 0.534506, Training Accuracy 0.75000\n",
      "epoch 172, Loss 0.741341, Training Accuracy 0.71875\n",
      "epoch 173, Loss 0.424617, Training Accuracy 0.75000\n",
      "epoch 174, Loss 0.560226, Training Accuracy 0.76562\n",
      "epoch 175, Loss 0.702672, Training Accuracy 0.75000\n",
      "epoch 176, Loss 0.433007, Training Accuracy 0.75000\n",
      "epoch 177, Loss 0.516203, Training Accuracy 0.78125\n",
      "epoch 178, Loss 0.713069, Training Accuracy 0.75000\n",
      "epoch 179, Loss 0.415329, Training Accuracy 0.76562\n",
      "epoch 180, Loss 0.545173, Training Accuracy 0.78125\n",
      "epoch 181, Loss 0.672548, Training Accuracy 0.75000\n",
      "epoch 182, Loss 0.437566, Training Accuracy 0.76562\n",
      "epoch 183, Loss 0.510853, Training Accuracy 0.73438\n",
      "epoch 184, Loss 0.693240, Training Accuracy 0.75000\n",
      "epoch 185, Loss 0.413291, Training Accuracy 0.78125\n",
      "epoch 186, Loss 0.539482, Training Accuracy 0.76562\n",
      "epoch 187, Loss 0.648800, Training Accuracy 0.76562\n",
      "epoch 188, Loss 0.428473, Training Accuracy 0.73438\n",
      "epoch 189, Loss 0.500529, Training Accuracy 0.73438\n",
      "epoch 190, Loss 0.674801, Training Accuracy 0.75000\n",
      "epoch 191, Loss 0.413411, Training Accuracy 0.79688\n",
      "epoch 192, Loss 0.527909, Training Accuracy 0.76562\n",
      "epoch 193, Loss 0.620652, Training Accuracy 0.75000\n",
      "epoch 194, Loss 0.425813, Training Accuracy 0.78125\n",
      "epoch 195, Loss 0.493450, Training Accuracy 0.75000\n",
      "epoch 196, Loss 0.675940, Training Accuracy 0.73438\n",
      "epoch 197, Loss 0.418201, Training Accuracy 0.78125\n",
      "epoch 198, Loss 0.515678, Training Accuracy 0.75000\n",
      "epoch 199, Loss 0.612529, Training Accuracy 0.76562\n",
      "epoch 200, Loss 0.413200, Training Accuracy 0.79688\n"
     ]
    }
   ],
   "source": [
    "train_loss = []\n",
    "train_accuracy = []\n",
    "sess.run(init)\n",
    "for i in range(epochs):\n",
    "    for batch in range(len(x_train)//batch_size):\n",
    "        batch_x = x_train[batch*batch_size:min((batch+1)*batch_size,len(x_train))]\n",
    "        batch_y = y_train[batch*batch_size:min((batch+1)*batch_size,len(y_train))]\n",
    "        _ = sess.run(train, feed_dict={x:batch_x,y:batch_y})\n",
    "        loss_, accuracy = sess.run([loss, acc], feed_dict={x: batch_x,y: batch_y})\n",
    "    print('epoch '+str(i+1)+', Loss '+'{:.6f}'.format(loss_)+', Training Accuracy '+'{:.5f}'.format(accuracy))\n",
    "    train_loss.append(loss_)\n",
    "    train_accuracy.append(accuracy)"
   ]
  },
  {
   "cell_type": "markdown",
   "metadata": {
    "colab_type": "text",
    "id": "FKhwsopMWBTQ"
   },
   "source": [
    "## Plotting the loss and accuracy for training data"
   ]
  },
  {
   "cell_type": "code",
   "execution_count": 0,
   "metadata": {
    "colab": {
     "base_uri": "https://localhost:8080/",
     "height": 310
    },
    "colab_type": "code",
    "id": "rA5mjT0zx5ud",
    "outputId": "7ed82236-dbfc-4475-8920-f637a6f988a5"
   },
   "outputs": [
    {
     "data": {
      "text/plain": [
       "Text(0.5, 1.0, 'Training Data')"
      ]
     },
     "execution_count": 33,
     "metadata": {
      "tags": []
     },
     "output_type": "execute_result"
    },
    {
     "data": {
      "image/png": "[encoded data removed]",
      "text/plain": [
       "<Figure size 432x288 with 1 Axes>"
      ]
     },
     "metadata": {
      "tags": []
     },
     "output_type": "display_data"
    }
   ],
   "source": [
    "X = np.arange(1, epochs+1)\n",
    "plt.xlabel('epochs')\n",
    "plt.ylabel('loss')\n",
    "plt.ylim((0, 200.0))\n",
    "plt.plot(X, train_loss)\n",
    "plt.title('Training Data')"
   ]
  },
  {
   "cell_type": "code",
   "execution_count": 0,
   "metadata": {
    "colab": {
     "base_uri": "https://localhost:8080/",
     "height": 310
    },
    "colab_type": "code",
    "id": "HI866hZfXbq7",
    "outputId": "9951ef3e-e314-4543-9542-0ace430490f4"
   },
   "outputs": [
    {
     "data": {
      "text/plain": [
       "Text(0.5, 1.0, 'Training Data')"
      ]
     },
     "execution_count": 25,
     "metadata": {
      "tags": []
     },
     "output_type": "execute_result"
    },
    {
     "data": {
      "image/png": "[encoded data removed]",
      "text/plain": [
       "<Figure size 432x288 with 1 Axes>"
      ]
     },
     "metadata": {
      "tags": []
     },
     "output_type": "display_data"
    }
   ],
   "source": [
    "plt.xlabel('epochs')\n",
    "plt.ylabel('accuracy')\n",
    "plt.plot(X, train_accuracy)\n",
    "plt.title('Training Data')"
   ]
  },
  {
   "cell_type": "markdown",
   "metadata": {
    "colab_type": "text",
    "id": "idROZX6VWa7Y"
   },
   "source": [
    "## Test data loss and accuracy"
   ]
  },
  {
   "cell_type": "code",
   "execution_count": 0,
   "metadata": {
    "colab": {},
    "colab_type": "code",
    "id": "4vI_fSDJrwPY"
   },
   "outputs": [],
   "source": [
    "test_loss, test_accuracy = sess.run([loss, acc], feed_dict={x:x_test[:], y:y_test[:]})"
   ]
  },
  {
   "cell_type": "code",
   "execution_count": 0,
   "metadata": {
    "colab": {
     "base_uri": "https://localhost:8080/",
     "height": 34
    },
    "colab_type": "code",
    "id": "2jwDLom_LpiO",
    "outputId": "374ddf2b-c85e-407e-f1b5-825d6a4bef57"
   },
   "outputs": [
    {
     "name": "stdout",
     "output_type": "stream",
     "text": [
      "Test loss: 13.583310 accuracy: 0.131579\n"
     ]
    }
   ],
   "source": [
    "print('Test loss: %f accuracy: %f' % (test_loss, test_accuracy))"
   ]
  },
  {
   "cell_type": "code",
   "execution_count": 0,
   "metadata": {
    "colab": {},
    "colab_type": "code",
    "id": "XeEXjaeUswQj"
   },
   "outputs": [],
   "source": [
    "sess.close()"
   ]
  }
 ],
 "metadata": {
  "accelerator": "GPU",
  "colab": {
   "collapsed_sections": [],
   "name": "HumanActionClassification.ipynb",
   "provenance": [],
   "version": "0.3.2"
  },
  "kernelspec": {
   "display_name": "Python 3",
   "language": "python",
   "name": "python3"
  },
  "language_info": {
   "codemirror_mode": {
    "name": "ipython",
    "version": 3
   },
   "file_extension": ".py",
   "mimetype": "text/x-python",
   "name": "python",
   "nbconvert_exporter": "python",
   "pygments_lexer": "ipython3",
   "version": "3.6.7"
  }
 },
 "nbformat": 4,
 "nbformat_minor": 1
}
